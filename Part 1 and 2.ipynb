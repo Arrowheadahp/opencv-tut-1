{
 "cells": [
  {
   "cell_type": "code",
   "execution_count": 2,
   "metadata": {},
   "outputs": [],
   "source": [
    "import cv2 as cv\n",
    "import numpy as np"
   ]
  },
  {
   "cell_type": "code",
   "execution_count": 3,
   "metadata": {},
   "outputs": [
    {
     "data": {
      "text/plain": [
       "-1"
      ]
     },
     "execution_count": 3,
     "metadata": {},
     "output_type": "execute_result"
    }
   ],
   "source": [
    "img = cv.imread('resources/stefanie-knight-heating-up-12.jpg')\n",
    "\n",
    "cv.imshow('hey', img)\n",
    "\n",
    "cv.waitKey(0)"
   ]
  },
  {
   "cell_type": "code",
   "execution_count": 6,
   "metadata": {},
   "outputs": [],
   "source": [
    "def rescaleFrame(frame, scale = 0.66):\n",
    "    width  = int(frame.shape[1] * scale)\n",
    "    height = int(frame.shape[0] * scale)\n",
    "    \n",
    "#     frame /=2.0\n",
    "    \n",
    "    return cv.resize(frame, (width, height), interpolation = cv.INTER_AREA)"
   ]
  },
  {
   "cell_type": "code",
   "execution_count": 90,
   "metadata": {},
   "outputs": [],
   "source": [
    "capture = cv.VideoCapture('resources/blacked.mp4')\n",
    "while True:\n",
    "    isTrue, frame = capture.read()\n",
    "    if isTrue == False:\n",
    "        break\n",
    "    frame = rescaleFrame(frame)\n",
    "    cv.imshow('black', frame)\n",
    "    \n",
    "    if cv.waitKey(15) & 0xFF == ord('d'):\n",
    "        break\n",
    "    \n",
    "capture.release()\n",
    "cv.destroyAllWindows()"
   ]
  },
  {
   "cell_type": "code",
   "execution_count": 30,
   "metadata": {},
   "outputs": [
    {
     "data": {
      "text/plain": [
       "-1"
      ]
     },
     "execution_count": 30,
     "metadata": {},
     "output_type": "execute_result"
    }
   ],
   "source": [
    "draw = np.zeros((200, 320, 3), dtype='uint8')\n",
    "\n",
    "draw[:] = 0, 255, 0 # paint it green\n",
    "\n",
    "cv.rectangle(draw, \n",
    "             (10, 10), \n",
    "             (100, 100),\n",
    "             (255, 0, 0), \n",
    "             thickness=-1\n",
    "            )\n",
    "\n",
    "cv.circle(\n",
    "    draw, \n",
    "    (160, 100), \n",
    "    40, \n",
    "    (0, 0, 255), \n",
    "    thickness = 3\n",
    ")\n",
    "\n",
    "cv.line(\n",
    "    draw, \n",
    "    (0, 0), \n",
    "    (160, 100), \n",
    "    (0, 255, 255), \n",
    "    thickness = 3\n",
    ")\n",
    "\n",
    "cv.putText(draw,\n",
    "           'Hello', \n",
    "           (100, 100), \n",
    "           cv.FONT_HERSHEY_TRIPLEX, \n",
    "           1.0, \n",
    "           (255, 255, 255), \n",
    "           thickness = 2\n",
    "          )\n",
    "\n",
    "\n",
    "cv.imshow('draw', draw)\n",
    "cv.waitKey(0)"
   ]
  },
  {
   "cell_type": "code",
   "execution_count": 56,
   "metadata": {},
   "outputs": [],
   "source": [
    "from random import randint\n",
    "def bla(h=80, w=50):\n",
    "    canvas = np.zeros((w, h, 3), dtype='uint8')\n",
    "    for i in range(w):\n",
    "        for j in range(h):\n",
    "            for k in range(3):\n",
    "                canvas[i,j,k] = randint(0, 255)\n",
    "#     print (canvas)\n",
    "    return canvas"
   ]
  },
  {
   "cell_type": "code",
   "execution_count": 57,
   "metadata": {},
   "outputs": [],
   "source": [
    "for _ in range(100):\n",
    "    rancan = bla()\n",
    "#     print (rancan)\n",
    "    cv.imshow('rancan', rancan)\n",
    "    cv.waitKey(15)"
   ]
  },
  {
   "cell_type": "code",
   "execution_count": 7,
   "metadata": {},
   "outputs": [],
   "source": [
    "img = rescaleFrame(img, .5)"
   ]
  },
  {
   "cell_type": "code",
   "execution_count": 17,
   "metadata": {},
   "outputs": [
    {
     "data": {
      "text/plain": [
       "-1"
      ]
     },
     "execution_count": 17,
     "metadata": {},
     "output_type": "execute_result"
    }
   ],
   "source": [
    "# convert to grayscale\n",
    "\n",
    "gray = cv.cvtColor(img, cv.COLOR_BGR2GRAY)\n",
    "\n",
    "cv.imshow('gray', gray)\n",
    "cv.waitKey(0)"
   ]
  },
  {
   "cell_type": "code",
   "execution_count": 31,
   "metadata": {},
   "outputs": [
    {
     "data": {
      "text/plain": [
       "-1"
      ]
     },
     "execution_count": 31,
     "metadata": {},
     "output_type": "execute_result"
    }
   ],
   "source": [
    "# blur an image\n",
    "\n",
    "blur = cv.GaussianBlur(draw, \n",
    "                       (5, 5), \n",
    "                       cv.BORDER_DEFAULT)\n",
    "\n",
    "cv.imshow('blur', blur)\n",
    "cv.waitKey(0)"
   ]
  },
  {
   "cell_type": "code",
   "execution_count": 32,
   "metadata": {},
   "outputs": [
    {
     "data": {
      "text/plain": [
       "-1"
      ]
     },
     "execution_count": 32,
     "metadata": {},
     "output_type": "execute_result"
    }
   ],
   "source": [
    "# edge cascade\n",
    "\n",
    "canny = cv.Canny(blur, 125, 125)\n",
    "\n",
    "cv.imshow('canny', canny)\n",
    "cv.waitKey(0)"
   ]
  },
  {
   "cell_type": "code",
   "execution_count": 33,
   "metadata": {},
   "outputs": [
    {
     "data": {
      "text/plain": [
       "-1"
      ]
     },
     "execution_count": 33,
     "metadata": {},
     "output_type": "execute_result"
    }
   ],
   "source": [
    "#dilating the image\n",
    "\n",
    "dilated = cv.dilate(canny, (3, 3), iterations=1)\n",
    "\n",
    "cv.imshow('dilated', dilated)\n",
    "cv.waitKey(0)"
   ]
  },
  {
   "cell_type": "code",
   "execution_count": 37,
   "metadata": {},
   "outputs": [
    {
     "data": {
      "text/plain": [
       "-1"
      ]
     },
     "execution_count": 37,
     "metadata": {},
     "output_type": "execute_result"
    }
   ],
   "source": [
    "# resize\n",
    "resized = cv.resize(draw, (600, 400))\n",
    "\n",
    "cv.imshow('resized', resized)\n",
    "cv.waitKey(0)"
   ]
  },
  {
   "cell_type": "code",
   "execution_count": 39,
   "metadata": {},
   "outputs": [
    {
     "data": {
      "text/plain": [
       "-1"
      ]
     },
     "execution_count": 39,
     "metadata": {},
     "output_type": "execute_result"
    }
   ],
   "source": [
    "# cropping\n",
    "cropped = draw[0:160, 0: 200]\n",
    "\n",
    "cv.imshow('cropped', cropped)\n",
    "cv.waitKey(0)"
   ]
  },
  {
   "cell_type": "code",
   "execution_count": 62,
   "metadata": {},
   "outputs": [
    {
     "data": {
      "text/plain": [
       "-1"
      ]
     },
     "execution_count": 62,
     "metadata": {},
     "output_type": "execute_result"
    }
   ],
   "source": [
    "d2 = draw\n",
    "\n",
    "cv.imshow('d2', d2)\n",
    "cv.waitKey(0)"
   ]
  },
  {
   "cell_type": "code",
   "execution_count": null,
   "metadata": {},
   "outputs": [],
   "source": [
    "# translate\n",
    "def translate(img, x, y):\n",
    "    transmat = np.float32"
   ]
  },
  {
   "cell_type": "code",
   "execution_count": 50,
   "metadata": {},
   "outputs": [],
   "source": [
    "# rotate\n",
    "def rotate(img, angle, rotPoint=None):\n",
    "    height, width = img.shape[:2]\n",
    "    \n",
    "    if rotPoint == None:\n",
    "        rotPoint = (width//2, height//2)\n",
    "    \n",
    "    rotmat = cv.getRotationMatrix2D(rotPoint, angle, 1.0)\n",
    "    \n",
    "    return cv.warpAffine(img, rotmat, (width, height))"
   ]
  },
  {
   "cell_type": "code",
   "execution_count": 51,
   "metadata": {},
   "outputs": [
    {
     "data": {
      "text/plain": [
       "-1"
      ]
     },
     "execution_count": 51,
     "metadata": {},
     "output_type": "execute_result"
    }
   ],
   "source": [
    "rotated = rotate(draw, 45)\n",
    "\n",
    "cv.imshow('rotated', rotated)\n",
    "cv.waitKey(0)"
   ]
  },
  {
   "cell_type": "code",
   "execution_count": 53,
   "metadata": {},
   "outputs": [
    {
     "data": {
      "text/plain": [
       "-1"
      ]
     },
     "execution_count": 53,
     "metadata": {},
     "output_type": "execute_result"
    }
   ],
   "source": [
    "# flip \n",
    "flipped = cv.flip(draw,\n",
    "#                   -1 # for vertical and horizontal\n",
    "#                   0  # for vertical\n",
    "                  1  # for horizontal\n",
    "                 )\n",
    "\n",
    "cv.imshow('flipped', flipped)\n",
    "cv.waitKey(0)"
   ]
  },
  {
   "cell_type": "code",
   "execution_count": 54,
   "metadata": {},
   "outputs": [
    {
     "name": "stdout",
     "output_type": "stream",
     "text": [
      "27\n"
     ]
    }
   ],
   "source": [
    "# contours\n",
    "\n",
    "contours, hierarchies = cv.findContours(canny, cv.RETR_LIST, cv.CHAIN_APPROX_NONE)\n",
    "\n",
    "print(len(contours))"
   ]
  },
  {
   "cell_type": "code",
   "execution_count": 56,
   "metadata": {},
   "outputs": [
    {
     "data": {
      "text/plain": [
       "-1"
      ]
     },
     "execution_count": 56,
     "metadata": {},
     "output_type": "execute_result"
    }
   ],
   "source": [
    "# thresholding\n",
    "ret, thresh = cv.threshold(img, 125, 255, cv.THRESH_BINARY)\n",
    "\n",
    "cv.imshow('thresh', thresh)\n",
    "cv.waitKey(0)"
   ]
  },
  {
   "cell_type": "code",
   "execution_count": 63,
   "metadata": {},
   "outputs": [
    {
     "data": {
      "text/plain": [
       "-1"
      ]
     },
     "execution_count": 63,
     "metadata": {},
     "output_type": "execute_result"
    }
   ],
   "source": [
    "d2 = cv.drawContours(d2, contours, -1, (0, 0, 0), 1)\n",
    "\n",
    "cv.imshow('d2', d2)\n",
    "cv.waitKey(0)"
   ]
  },
  {
   "cell_type": "code",
   "execution_count": null,
   "metadata": {},
   "outputs": [],
   "source": []
  },
  {
   "cell_type": "code",
   "execution_count": null,
   "metadata": {},
   "outputs": [],
   "source": []
  },
  {
   "cell_type": "code",
   "execution_count": 64,
   "metadata": {},
   "outputs": [
    {
     "data": {
      "text/plain": [
       "-1"
      ]
     },
     "execution_count": 64,
     "metadata": {},
     "output_type": "execute_result"
    }
   ],
   "source": [
    "# BGR to HSV\n",
    "\n",
    "hsv = cv.cvtColor(img, cv.COLOR_BGR2HSV)\n",
    "\n",
    "cv.imshow('hsv', hsv)\n",
    "cv.waitKey(0)"
   ]
  },
  {
   "cell_type": "code",
   "execution_count": 65,
   "metadata": {},
   "outputs": [
    {
     "data": {
      "text/plain": [
       "-1"
      ]
     },
     "execution_count": 65,
     "metadata": {},
     "output_type": "execute_result"
    }
   ],
   "source": [
    "# BGR to LAB\n",
    "\n",
    "LAB = cv.cvtColor(img, cv.COLOR_BGR2LAB)\n",
    "\n",
    "cv.imshow('LAB', LAB)\n",
    "cv.waitKey(0)"
   ]
  },
  {
   "cell_type": "code",
   "execution_count": 73,
   "metadata": {},
   "outputs": [],
   "source": [
    "import matplotlib.pyplot as plt"
   ]
  },
  {
   "cell_type": "code",
   "execution_count": 74,
   "metadata": {},
   "outputs": [],
   "source": [
    "def show(img):\n",
    "    plt.imshow(img)\n",
    "    plt.show()"
   ]
  },
  {
   "cell_type": "code",
   "execution_count": 15,
   "metadata": {},
   "outputs": [],
   "source": [
    "def show(img):\n",
    "    \n",
    "    cv.imshow('img', img)\n",
    "    cv.waitKey(0)"
   ]
  },
  {
   "cell_type": "code",
   "execution_count": 78,
   "metadata": {},
   "outputs": [
    {
     "data": {
      "image/png": "[encoded data removed]",
      "text/plain": [
       "<Figure size 432x288 with 1 Axes>"
      ]
     },
     "metadata": {
      "needs_background": "light"
     },
     "output_type": "display_data"
    }
   ],
   "source": [
    "show(draw)"
   ]
  },
  {
   "cell_type": "code",
   "execution_count": 80,
   "metadata": {},
   "outputs": [
    {
     "data": {
      "text/plain": [
       "-1"
      ]
     },
     "execution_count": 80,
     "metadata": {},
     "output_type": "execute_result"
    }
   ],
   "source": [
    "# BGR to RGB\n",
    "\n",
    "RGB = cv.cvtColor(draw, cv.COLOR_BGR2RGB)\n",
    "\n",
    "cv.imshow('RGB', RGB)\n",
    "cv.waitKey(0)"
   ]
  },
  {
   "cell_type": "code",
   "execution_count": 96,
   "metadata": {},
   "outputs": [],
   "source": [
    "# median blur\n",
    "blur = cv.medianBlur(img, 3)\n",
    "\n",
    "show(blur)"
   ]
  },
  {
   "cell_type": "code",
   "execution_count": 27,
   "metadata": {},
   "outputs": [
    {
     "data": {
      "text/plain": [
       "-1"
      ]
     },
     "execution_count": 27,
     "metadata": {},
     "output_type": "execute_result"
    }
   ],
   "source": [
    "for i in range(1, 20, 2):\n",
    "    con = cv.medianBlur(img, i)\n",
    "    cv.imshow('img', con)\n",
    "    cv.waitKey(25)\n",
    "\n",
    "cv.waitKey(0)"
   ]
  },
  {
   "cell_type": "code",
   "execution_count": 98,
   "metadata": {},
   "outputs": [],
   "source": [
    "bla(img)"
   ]
  },
  {
   "cell_type": "code",
   "execution_count": 13,
   "metadata": {},
   "outputs": [
    {
     "data": {
      "text/plain": [
       "-1"
      ]
     },
     "execution_count": 13,
     "metadata": {},
     "output_type": "execute_result"
    }
   ],
   "source": [
    "# bilateral image blur\n",
    "\n",
    "for i in range(1, 20, 2):\n",
    "    con = cv.bilateralFilter(img, 5, 15, i)\n",
    "    cv.imshow('img', con)\n",
    "    cv.waitKey(25)\n",
    "\n",
    "cv.waitKey(0)"
   ]
  },
  {
   "cell_type": "code",
   "execution_count": 19,
   "metadata": {},
   "outputs": [],
   "source": [
    "# threshold\n",
    "thresholh, thresh = cv.threshold(gray, 150, 255, cv.THRESH_BINARY)\n",
    "\n",
    "show(thresh)"
   ]
  },
  {
   "cell_type": "code",
   "execution_count": 24,
   "metadata": {},
   "outputs": [
    {
     "data": {
      "text/plain": [
       "-1"
      ]
     },
     "execution_count": 24,
     "metadata": {},
     "output_type": "execute_result"
    }
   ],
   "source": [
    "for i in range(2, 255, 2):\n",
    "    threshold, thresh = cv.threshold(gray, i, 255, cv.THRESH_BINARY_INV)\n",
    "    cv.imshow('img', thresh)\n",
    "    cv.waitKey(25)\n",
    "\n",
    "cv.waitKey(0)"
   ]
  },
  {
   "cell_type": "code",
   "execution_count": 52,
   "metadata": {},
   "outputs": [],
   "source": [
    "def style1(img):\n",
    "    canny = cv.Canny(img, 99, 99)\n",
    "    contours, hierarchies = cv.findContours(canny, cv.RETR_LIST, cv.CHAIN_APPROX_NONE)\n",
    "    blur = cv.medianBlur(img, 3)\n",
    "    d2 = cv.drawContours(img, contours, -1, (0, 0, 0), 1)\n",
    "    \n",
    "    show(d2)\n",
    "    \n",
    "style1(img)\n",
    "    \n",
    "    "
   ]
  },
  {
   "cell_type": "code",
   "execution_count": 49,
   "metadata": {},
   "outputs": [
    {
     "data": {
      "text/plain": [
       "-1"
      ]
     },
     "execution_count": 49,
     "metadata": {},
     "output_type": "execute_result"
    }
   ],
   "source": [
    "for i in range(3, 255, 2):\n",
    "    con = cv.Canny(img, i, i)\n",
    "    cv.imshow('img', con)\n",
    "    cv.waitKey(25)\n",
    "\n",
    "cv.waitKey(0)"
   ]
  },
  {
   "cell_type": "code",
   "execution_count": 26,
   "metadata": {},
   "outputs": [],
   "source": [
    "# adaptive thresholding\n",
    "\n",
    "# finds optimal thresholding by itself\n",
    "\n",
    "athresh = cv.adaptiveThreshold(gray, 255, cv.ADAPTIVE_THRESH_MEAN_C, cv.THRESH_BINARY, 11, 0)\n",
    "\n",
    "show(athresh)"
   ]
  },
  {
   "cell_type": "code",
   "execution_count": 61,
   "metadata": {},
   "outputs": [
    {
     "data": {
      "text/plain": [
       "-1"
      ]
     },
     "execution_count": 61,
     "metadata": {},
     "output_type": "execute_result"
    }
   ],
   "source": [
    "for i in range(3, 25, 2):\n",
    "    con = cv.adaptiveThreshold(gray, 255, cv.ADAPTIVE_THRESH_MEAN_C, cv.THRESH_BINARY, 13, 3)\n",
    "    cv.imshow('img', con)\n",
    "    cv.waitKey(500)\n",
    "\n",
    "cv.waitKey(0)"
   ]
  },
  {
   "cell_type": "code",
   "execution_count": null,
   "metadata": {},
   "outputs": [],
   "source": []
  },
  {
   "cell_type": "code",
   "execution_count": 62,
   "metadata": {},
   "outputs": [],
   "source": [
    "# laplacian\n",
    "\n",
    "lap = cv.Laplacian(gray, cv.CV_64F)\n",
    "lap = np.uint8(np.absolute(lap))\n",
    "show(lap)"
   ]
  },
  {
   "cell_type": "code",
   "execution_count": null,
   "metadata": {},
   "outputs": [],
   "source": []
  }
 ],
 "metadata": {
  "kernelspec": {
   "display_name": "Python 3",
   "language": "python",
   "name": "python3"
  },
  "language_info": {
   "codemirror_mode": {
    "name": "ipython",
    "version": 3
   },
   "file_extension": ".py",
   "mimetype": "text/x-python",
   "name": "python",
   "nbconvert_exporter": "python",
   "pygments_lexer": "ipython3",
   "version": "3.7.9"
  }
 },
 "nbformat": 4,
 "nbformat_minor": 4
}
