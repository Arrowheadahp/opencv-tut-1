{
 "cells": [
  {
   "cell_type": "code",
   "execution_count": 1,
   "metadata": {},
   "outputs": [],
   "source": [
    "import cv2 as cv\n",
    "import numpy as np"
   ]
  },
  {
   "cell_type": "code",
   "execution_count": 2,
   "metadata": {},
   "outputs": [],
   "source": [
    "def show(img):\n",
    "    cv.imshow('image', img)\n",
    "    cv.waitKey(0)"
   ]
  },
  {
   "cell_type": "code",
   "execution_count": 3,
   "metadata": {},
   "outputs": [],
   "source": [
    "img = cv.imread('resources/elizabeth-marxs-elizabeth-marxs-and-ali-rose-in-rev-her-engine-15.jpg')\n",
    "\n",
    "show(img)"
   ]
  },
  {
   "cell_type": "code",
   "execution_count": 4,
   "metadata": {},
   "outputs": [],
   "source": [
    "gray = cv.cvtColor(img, cv.COLOR_BGR2GRAY)\n",
    "\n",
    "show(gray)"
   ]
  },
  {
   "cell_type": "code",
   "execution_count": 5,
   "metadata": {},
   "outputs": [],
   "source": [
    "# read the haarcascade file\n",
    "face_cascade = cv.CascadeClassifier(cv.data.haarcascades + 'haarcascade_frontalface_default.xml')\n",
    "# haar_cascade = cv.CascadeClassifier('https://raw.githubusercontent.com/opencv/opencv/master/data/haarcascades/haarcascade_frontalface_default.xml')"
   ]
  },
  {
   "cell_type": "code",
   "execution_count": 6,
   "metadata": {},
   "outputs": [],
   "source": [
    "# now to detect the faces\n",
    "\n",
    "faces_rect = face_cascade.detectMultiScale(gray, \n",
    "                                           scaleFactor= 1.1, \n",
    "                                           minNeighbors = 3\n",
    "                                          )"
   ]
  },
  {
   "cell_type": "code",
   "execution_count": 7,
   "metadata": {},
   "outputs": [
    {
     "data": {
      "text/plain": [
       "4"
      ]
     },
     "execution_count": 7,
     "metadata": {},
     "output_type": "execute_result"
    }
   ],
   "source": [
    "len(faces_rect)"
   ]
  },
  {
   "cell_type": "code",
   "execution_count": 8,
   "metadata": {},
   "outputs": [],
   "source": [
    "def detect_faces(img):\n",
    "    gray = cv.cvtColor(img, cv.COLOR_BGR2GRAY)\n",
    "    faces_rect = face_cascade.detectMultiScale(\n",
    "                                            gray, \n",
    "                                           scaleFactor= 1.1, \n",
    "                                           minNeighbors = 7\n",
    "                                          )\n",
    "    detected = img.copy()\n",
    "    for x, y, w, h in faces_rect:\n",
    "        cv.rectangle(\n",
    "            detected,\n",
    "            (x, y), \n",
    "            (x+w, y+h), \n",
    "            (0, 255, 0),\n",
    "            thickness=2,\n",
    "        )\n",
    "\n",
    "    show(detected)"
   ]
  },
  {
   "cell_type": "code",
   "execution_count": 9,
   "metadata": {},
   "outputs": [],
   "source": [
    "detect_faces(img)"
   ]
  },
  {
   "cell_type": "code",
   "execution_count": 10,
   "metadata": {},
   "outputs": [],
   "source": [
    "pic = cv.imread('resources/ali-rose-naked-car-wash-11.jpg')\n",
    "\n",
    "show(pic)"
   ]
  },
  {
   "cell_type": "code",
   "execution_count": 11,
   "metadata": {},
   "outputs": [],
   "source": [
    "detect_faces(pic)"
   ]
  },
  {
   "cell_type": "code",
   "execution_count": null,
   "metadata": {},
   "outputs": [],
   "source": []
  },
  {
   "cell_type": "code",
   "execution_count": null,
   "metadata": {},
   "outputs": [],
   "source": []
  },
  {
   "cell_type": "code",
   "execution_count": null,
   "metadata": {},
   "outputs": [],
   "source": []
  },
  {
   "cell_type": "code",
   "execution_count": 12,
   "metadata": {},
   "outputs": [],
   "source": [
    "import os"
   ]
  },
  {
   "cell_type": "code",
   "execution_count": 13,
   "metadata": {},
   "outputs": [],
   "source": [
    "loc = 'resources/train folder/'\n",
    "people = os.listdir(loc)"
   ]
  },
  {
   "cell_type": "code",
   "execution_count": 14,
   "metadata": {},
   "outputs": [
    {
     "data": {
      "text/plain": [
       "['Adriana Chechik',\n",
       " 'Alissa Arden',\n",
       " 'Molly Stewart',\n",
       " 'Stephanie Knight',\n",
       " 'Sybil Kailena']"
      ]
     },
     "execution_count": 14,
     "metadata": {},
     "output_type": "execute_result"
    }
   ],
   "source": [
    "people"
   ]
  },
  {
   "cell_type": "code",
   "execution_count": 15,
   "metadata": {},
   "outputs": [],
   "source": [
    "features = []\n",
    "labels = []\n",
    "\n",
    "for l, p in enumerate(people):\n",
    "    path = os.path.join(loc, p)\n",
    "    \n",
    "    for picname in os.listdir(path):\n",
    "        purl = os.path.join(path, picname)\n",
    "        \n",
    "        img = cv.imread(purl)\n",
    "        gray = cv.cvtColor(img, cv.COLOR_BGR2GRAY)\n",
    "        \n",
    "        faces_rect = face_cascade.detectMultiScale(\n",
    "                                            gray, \n",
    "                                           scaleFactor= 1.1, \n",
    "                                           minNeighbors = 4\n",
    "                                          )\n",
    "        \n",
    "        for x, y, w, h in faces_rect:\n",
    "            features.append(gray[y:y+h, x:x+w])\n",
    "            labels.append(l)"
   ]
  },
  {
   "cell_type": "code",
   "execution_count": 16,
   "metadata": {},
   "outputs": [],
   "source": [
    "features = np.array(features, dtype='object')\n",
    "labels = np.array(labels)"
   ]
  },
  {
   "cell_type": "code",
   "execution_count": 17,
   "metadata": {},
   "outputs": [],
   "source": [
    "recognizer = cv.face.LBPHFaceRecognizer_create()"
   ]
  },
  {
   "cell_type": "code",
   "execution_count": 18,
   "metadata": {},
   "outputs": [],
   "source": [
    "recognizer.train(features, labels)"
   ]
  },
  {
   "cell_type": "code",
   "execution_count": 19,
   "metadata": {},
   "outputs": [],
   "source": [
    "# we can save the trained model \n",
    "recognizer.save('face_recognizer.yml')"
   ]
  },
  {
   "cell_type": "code",
   "execution_count": 20,
   "metadata": {},
   "outputs": [],
   "source": [
    "val = ['adriana', 'Alissa-Arden-300x400-300x350', 'molly stewart', 'stefanie-knight-perfect-body-03']\n",
    "\n",
    "validation = []\n",
    "for p in val:\n",
    "    path = 'resources/' + p + '.jpg'\n",
    "    img = cv.imread(path)\n",
    "    gray = cv.cvtColor(img, cv.COLOR_BGR2GRAY)\n",
    "    faces_rect = face_cascade.detectMultiScale(\n",
    "                                            gray, \n",
    "                                           scaleFactor= 1.1, \n",
    "                                           minNeighbors = 4\n",
    "                                          )\n",
    "    for x, y, w, h in faces_rect:\n",
    "            validation.append(gray[y:y+h, x:x+w])"
   ]
  },
  {
   "cell_type": "code",
   "execution_count": 21,
   "metadata": {},
   "outputs": [
    {
     "name": "stdout",
     "output_type": "stream",
     "text": [
      "2 98.15528216875137\n",
      "Molly Stewart\n",
      "4 72.72939445179605\n",
      "Sybil Kailena\n",
      "2 128.64753626924187\n",
      "Molly Stewart\n",
      "2 158.7662183630123\n",
      "Molly Stewart\n",
      "3 65.02947132691416\n",
      "Stephanie Knight\n"
     ]
    }
   ],
   "source": [
    "for p in validation:\n",
    "    show(p)\n",
    "    label, confidence = recognizer.predict(p)\n",
    "    print(label, confidence)\n",
    "    print (people[label])"
   ]
  },
  {
   "cell_type": "code",
   "execution_count": 22,
   "metadata": {},
   "outputs": [
    {
     "name": "stdout",
     "output_type": "stream",
     "text": [
      "0 0.0\n",
      "Adriana Chechik Adriana Chechik\n",
      "0 0.0\n",
      "Adriana Chechik Adriana Chechik\n",
      "0 0.0\n",
      "Adriana Chechik Adriana Chechik\n",
      "0 0.0\n",
      "Adriana Chechik Adriana Chechik\n",
      "0 0.0\n",
      "Adriana Chechik Adriana Chechik\n",
      "0 0.0\n",
      "Adriana Chechik Adriana Chechik\n",
      "0 0.0\n",
      "Adriana Chechik Adriana Chechik\n",
      "0 0.0\n",
      "Adriana Chechik Adriana Chechik\n",
      "0 0.0\n",
      "Adriana Chechik Adriana Chechik\n",
      "0 0.0\n",
      "Adriana Chechik Adriana Chechik\n",
      "0 0.0\n",
      "Adriana Chechik Adriana Chechik\n",
      "0 0.0\n",
      "Adriana Chechik Adriana Chechik\n",
      "0 0.0\n",
      "Adriana Chechik Adriana Chechik\n",
      "0 0.0\n",
      "Adriana Chechik Adriana Chechik\n",
      "0 0.0\n",
      "Adriana Chechik Adriana Chechik\n",
      "0 0.0\n",
      "Adriana Chechik Adriana Chechik\n",
      "0 0.0\n",
      "Adriana Chechik Adriana Chechik\n",
      "0 0.0\n",
      "Adriana Chechik Adriana Chechik\n",
      "0 0.0\n",
      "Adriana Chechik Adriana Chechik\n",
      "0 0.0\n",
      "Adriana Chechik Adriana Chechik\n",
      "0 0.0\n",
      "Adriana Chechik Adriana Chechik\n",
      "0 0.0\n",
      "Adriana Chechik Adriana Chechik\n",
      "0 0.0\n",
      "Adriana Chechik Adriana Chechik\n",
      "0 0.0\n",
      "Adriana Chechik Adriana Chechik\n",
      "0 0.0\n",
      "Adriana Chechik Adriana Chechik\n",
      "0 0.0\n",
      "Adriana Chechik Adriana Chechik\n",
      "0 0.0\n",
      "Adriana Chechik Adriana Chechik\n",
      "0 0.0\n",
      "Adriana Chechik Adriana Chechik\n",
      "0 0.0\n",
      "Adriana Chechik Adriana Chechik\n",
      "0 0.0\n",
      "Adriana Chechik Adriana Chechik\n",
      "0 0.0\n",
      "Adriana Chechik Adriana Chechik\n",
      "0 0.0\n",
      "Adriana Chechik Adriana Chechik\n",
      "0 0.0\n",
      "Adriana Chechik Adriana Chechik\n",
      "0 0.0\n",
      "Adriana Chechik Adriana Chechik\n",
      "1 0.0\n",
      "Alissa Arden Alissa Arden\n",
      "1 0.0\n",
      "Alissa Arden Alissa Arden\n",
      "1 0.0\n",
      "Alissa Arden Alissa Arden\n",
      "1 0.0\n",
      "Alissa Arden Alissa Arden\n",
      "1 0.0\n",
      "Alissa Arden Alissa Arden\n",
      "1 0.0\n",
      "Alissa Arden Alissa Arden\n",
      "1 0.0\n",
      "Alissa Arden Alissa Arden\n",
      "1 0.0\n",
      "Alissa Arden Alissa Arden\n",
      "1 0.0\n",
      "Alissa Arden Alissa Arden\n",
      "1 0.0\n",
      "Alissa Arden Alissa Arden\n",
      "1 0.0\n",
      "Alissa Arden Alissa Arden\n",
      "1 0.0\n",
      "Alissa Arden Alissa Arden\n"
     ]
    },
    {
     "ename": "KeyboardInterrupt",
     "evalue": "",
     "output_type": "error",
     "traceback": [
      "\u001b[1;31m---------------------------------------------------------------------------\u001b[0m",
      "\u001b[1;31mKeyboardInterrupt\u001b[0m                         Traceback (most recent call last)",
      "\u001b[1;32m<ipython-input-22-a5cd4acaca08>\u001b[0m in \u001b[0;36m<module>\u001b[1;34m\u001b[0m\n\u001b[0;32m      9\u001b[0m                                                 \u001b[0mgray\u001b[0m\u001b[1;33m,\u001b[0m\u001b[1;33m\u001b[0m\u001b[1;33m\u001b[0m\u001b[0m\n\u001b[0;32m     10\u001b[0m                                                \u001b[0mscaleFactor\u001b[0m\u001b[1;33m=\u001b[0m \u001b[1;36m1.1\u001b[0m\u001b[1;33m,\u001b[0m\u001b[1;33m\u001b[0m\u001b[1;33m\u001b[0m\u001b[0m\n\u001b[1;32m---> 11\u001b[1;33m                                                \u001b[0mminNeighbors\u001b[0m \u001b[1;33m=\u001b[0m \u001b[1;36m4\u001b[0m\u001b[1;33m\u001b[0m\u001b[1;33m\u001b[0m\u001b[0m\n\u001b[0m\u001b[0;32m     12\u001b[0m                                               )\n\u001b[0;32m     13\u001b[0m         \u001b[1;32mfor\u001b[0m \u001b[0mx\u001b[0m\u001b[1;33m,\u001b[0m \u001b[0my\u001b[0m\u001b[1;33m,\u001b[0m \u001b[0mw\u001b[0m\u001b[1;33m,\u001b[0m \u001b[0mh\u001b[0m \u001b[1;32min\u001b[0m \u001b[0mfaces_rect\u001b[0m\u001b[1;33m:\u001b[0m\u001b[1;33m\u001b[0m\u001b[1;33m\u001b[0m\u001b[0m\n",
      "\u001b[1;31mKeyboardInterrupt\u001b[0m: "
     ]
    }
   ],
   "source": [
    "for l, p in enumerate(people):\n",
    "    path = os.path.join(loc, p)\n",
    "    \n",
    "    for picname in os.listdir(path):\n",
    "        purl = os.path.join(path, picname)\n",
    "        img = cv.imread(purl)\n",
    "        gray = cv.cvtColor(img, cv.COLOR_BGR2GRAY)\n",
    "        faces_rect = face_cascade.detectMultiScale(\n",
    "                                                gray, \n",
    "                                               scaleFactor= 1.1, \n",
    "                                               minNeighbors = 4\n",
    "                                              )\n",
    "        for x, y, w, h in faces_rect:\n",
    "#                 show(p)\n",
    "                t = gray[y:y+h, x:x+w]\n",
    "                label, confidence = recognizer.predict(t)\n",
    "                print(label, confidence)\n",
    "                print (people[label], p)"
   ]
  },
  {
   "cell_type": "code",
   "execution_count": null,
   "metadata": {},
   "outputs": [],
   "source": []
  }
 ],
 "metadata": {
  "kernelspec": {
   "display_name": "Python 3",
   "language": "python",
   "name": "python3"
  },
  "language_info": {
   "codemirror_mode": {
    "name": "ipython",
    "version": 3
   },
   "file_extension": ".py",
   "mimetype": "text/x-python",
   "name": "python",
   "nbconvert_exporter": "python",
   "pygments_lexer": "ipython3",
   "version": "3.7.9"
  }
 },
 "nbformat": 4,
 "nbformat_minor": 4
}
